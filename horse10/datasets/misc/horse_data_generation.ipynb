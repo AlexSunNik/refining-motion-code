{
 "cells": [
  {
   "cell_type": "code",
   "execution_count": 52,
   "metadata": {},
   "outputs": [],
   "source": [
    "from mmpose.datasets.datasets.animal import Horse10Dataset"
   ]
  },
  {
   "cell_type": "code",
   "execution_count": 53,
   "metadata": {},
   "outputs": [],
   "source": [
    "label_path = \"/orion/group/horse10/horse10/labeled-data\"\n",
    "anno_path = \"/orion/group/horse10/horse10/annotations\"\n",
    "anno_file_path = \"/orion/group/horse10/horse10/horse10_annotations.tar\"\n",
    "root = \"/orion/group/horse10/horse10\""
   ]
  },
  {
   "attachments": {},
   "cell_type": "markdown",
   "metadata": {},
   "source": [
    "## Generate a final total json file"
   ]
  },
  {
   "cell_type": "code",
   "execution_count": 54,
   "metadata": {},
   "outputs": [],
   "source": [
    "# 'labeled-data/ChestnutHorseLight/0001.png'\n",
    "import re\n",
    "name_pat = re.compile('labeled-data/(.+)/\\d+.png')"
   ]
  },
  {
   "cell_type": "code",
   "execution_count": 55,
   "metadata": {},
   "outputs": [
    {
     "name": "stdout",
     "output_type": "stream",
     "text": [
      "/orion/group/horse10/horse10/annotations/horse10-train-split1.json\n",
      "loading annotations into memory...\n",
      "Done (t=0.04s)\n",
      "creating index...\n",
      "index created!\n"
     ]
    },
    {
     "name": "stderr",
     "output_type": "stream",
     "text": [
      "/orion/u/xs15/mmpose/mmpose/datasets/datasets/utils.py:102: UserWarning: The metainfo config file \"configs/_base_/datasets/horse10.py\" does not exist. A matched config file \"/orion/u/xs15/mmpose/mmpose/.mim/configs/_base_/datasets/horse10.py\" will be used instead.\n",
      "  warnings.warn(\n"
     ]
    },
    {
     "name": "stdout",
     "output_type": "stream",
     "text": [
      "/orion/group/horse10/horse10/annotations/horse10-test-split1.json\n",
      "loading annotations into memory...\n",
      "Done (t=0.17s)\n",
      "creating index...\n",
      "index created!\n",
      "/orion/group/horse10/horse10/annotations/horse10-test-split3.json\n",
      "loading annotations into memory...\n",
      "Done (t=0.15s)\n",
      "creating index...\n",
      "index created!\n",
      "/orion/group/horse10/horse10/annotations/horse10-train-split2.json\n",
      "loading annotations into memory...\n",
      "Done (t=0.03s)\n",
      "creating index...\n",
      "index created!\n",
      "/orion/group/horse10/horse10/annotations/horse10-test-split2.json\n",
      "loading annotations into memory...\n",
      "Done (t=0.15s)\n",
      "creating index...\n",
      "index created!\n",
      "/orion/group/horse10/horse10/annotations/horse10-train-split3.json\n",
      "loading annotations into memory...\n",
      "Done (t=0.03s)\n",
      "creating index...\n",
      "index created!\n"
     ]
    }
   ],
   "source": [
    "import os\n",
    "result = {}\n",
    "for filename in os.listdir(anno_path):\n",
    "    f = os.path.join(anno_path, filename)\n",
    "    # checking if it is a file\n",
    "    if os.path.isfile(f):\n",
    "        print(f)\n",
    "        dset = Horse10Dataset(ann_file=f)\n",
    "        for sample in dset:\n",
    "            img_path = sample['img_path']\n",
    "            obj = name_pat.search(img_path)\n",
    "            if obj is not None:\n",
    "                horse_name = obj.group(1)\n",
    "                if horse_name not in result:\n",
    "                    result[horse_name] = {}\n",
    "                if img_path not in result[horse_name]:\n",
    "                    result[horse_name][img_path] = sample"
   ]
  },
  {
   "cell_type": "code",
   "execution_count": 56,
   "metadata": {},
   "outputs": [],
   "source": [
    "for key in result:\n",
    "    path_sample_pair = [(k, v) for k, v in result[key].items()]\n",
    "    path_sample_pair = sorted(path_sample_pair, key = lambda x : x[0])\n",
    "    sample_list = [x[1] for x in path_sample_pair]\n",
    "    result[key] = sample_list"
   ]
  },
  {
   "cell_type": "code",
   "execution_count": 61,
   "metadata": {},
   "outputs": [],
   "source": [
    "import pickle\n",
    "\n",
    "with open(\"seq_annotation.pkl\", 'wb') as f:\n",
    "    pickle.dump(result, f)"
   ]
  },
  {
   "cell_type": "code",
   "execution_count": 62,
   "metadata": {},
   "outputs": [],
   "source": [
    "with open(\"seq_annotation.pkl\", 'rb') as f:\n",
    "    res = pickle.load(f)"
   ]
  },
  {
   "cell_type": "code",
   "execution_count": null,
   "metadata": {},
   "outputs": [],
   "source": []
  }
 ],
 "metadata": {
  "kernelspec": {
   "display_name": "Python 3",
   "language": "python",
   "name": "python3"
  },
  "language_info": {
   "codemirror_mode": {
    "name": "ipython",
    "version": 3
   },
   "file_extension": ".py",
   "mimetype": "text/x-python",
   "name": "python",
   "nbconvert_exporter": "python",
   "pygments_lexer": "ipython3",
   "version": "3.8.5"
  },
  "orig_nbformat": 4
 },
 "nbformat": 4,
 "nbformat_minor": 2
}
